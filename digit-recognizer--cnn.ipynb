{
 "cells": [
  {
   "cell_type": "markdown",
   "metadata": {
    "colab_type": "text",
    "id": "0BFH4V9FlmDr"
   },
   "source": [
    "# MNIST DIGIT RECOGNIZER USING CNN KERAS []"
   ]
  },
  {
   "cell_type": "markdown",
   "metadata": {
    "colab_type": "text",
    "id": "JE5wCNMElmDs"
   },
   "source": [
    "# [Please  star/upvote if u like it.]"
   ]
  },
  {
   "cell_type": "markdown",
   "metadata": {
    "colab_type": "text",
    "id": "GuXQOrjLlmDu"
   },
   "source": []
  },
  {
   "cell_type": "markdown",
   "metadata": {
    "colab_type": "text",
    "id": "d2kkEDgSlmDu"
   },
   "source": [
    "## CONTENTS:"
   ]
  },
  {
   "cell_type": "markdown",
   "metadata": {
    "colab_type": "text",
    "id": "c6Mst4z0lmDv"
   },
   "source": [
    "#### 1 ) Importing Various Modules"
   ]
  },
  {
   "cell_type": "markdown",
   "metadata": {
    "colab_type": "text",
    "id": "l7gcPBA_lmDx"
   },
   "source": [
    "#### 2 ) Loading the training and testing files"
   ]
  },
  {
   "cell_type": "markdown",
   "metadata": {
    "colab_type": "text",
    "id": "-WMLwJm5lmDz"
   },
   "source": [
    "#### 3 ) Preparing the Data"
   ]
  },
  {
   "cell_type": "markdown",
   "metadata": {
    "colab_type": "text",
    "id": "zimzfjTulmDz"
   },
   "source": [
    "#### 4 ) Modelling"
   ]
  },
  {
   "cell_type": "markdown",
   "metadata": {
    "colab_type": "text",
    "id": "KNfZ8Zc1lmD0"
   },
   "source": [
    "####  5 ) Making Predictions on the Validation Set"
   ]
  },
  {
   "cell_type": "markdown",
   "metadata": {
    "colab_type": "text",
    "id": "oauVQfxzlmD1"
   },
   "source": [
    "#### 6 ) Evaluating the Model Performance"
   ]
  },
  {
   "cell_type": "markdown",
   "metadata": {
    "colab_type": "text",
    "id": "UrxgVb3llmD2"
   },
   "source": [
    "#### 7 ) Making Submission to Kaggle"
   ]
  },
  {
   "cell_type": "markdown",
   "metadata": {
    "colab_type": "text",
    "id": "iMtTdnzulmD3"
   },
   "source": [
    "## 1 ) Importing Various Modules"
   ]
  },
  {
   "cell_type": "code",
   "execution_count": 0,
   "metadata": {
    "colab": {},
    "colab_type": "code",
    "id": "oHYM8dQ0lmD4"
   },
   "outputs": [],
   "source": [
    "# Ignore  the warnings\n",
    "import warnings\n",
    "warnings.filterwarnings('always')\n",
    "warnings.filterwarnings('ignore')\n",
    "\n",
    "# data visualisation and manipulation\n",
    "import numpy as np\n",
    "import pandas as pd\n",
    "import matplotlib.pyplot as plt\n",
    "from matplotlib import style\n",
    "import seaborn as sns\n",
    "import missingno as msno\n",
    "\n",
    "#configure\n",
    "# sets matplotlib to inline and displays graphs below the corressponding cell.\n",
    "% matplotlib inline  \n",
    "style.use('fivethirtyeight')\n",
    "sns.set(style='whitegrid',color_codes=True)\n",
    "\n",
    "#import the necessary modelling algos.\n",
    "from sklearn.linear_model import LogisticRegression\n",
    "from sklearn.svm import LinearSVC\n",
    "from sklearn.svm import SVC\n",
    "from sklearn.neighbors import KNeighborsClassifier\n",
    "from sklearn.ensemble import RandomForestClassifier\n",
    "from sklearn.tree import DecisionTreeClassifier\n",
    "from sklearn.ensemble import GradientBoostingClassifier\n",
    "from sklearn.naive_bayes import GaussianNB\n",
    "\n",
    "#model selection\n",
    "from sklearn.model_selection import train_test_split\n",
    "from sklearn.model_selection import KFold\n",
    "from sklearn.metrics import accuracy_score,precision_score,recall_score,confusion_matrix,roc_curve,roc_auc_score\n",
    "from sklearn.model_selection import GridSearchCV\n",
    "\n",
    "from imblearn.over_sampling import SMOTE\n",
    "\n",
    "#preprocess.\n",
    "from sklearn.preprocessing import MinMaxScaler,StandardScaler,Imputer,LabelEncoder,OneHotEncoder\n",
    "from keras.preprocessing.image import ImageDataGenerator\n",
    "\n",
    "#dl libraraies\n",
    "from keras import backend as K\n",
    "from keras.models import Sequential\n",
    "from keras.layers import Dense\n",
    "from keras.optimizers import Adam,SGD,Adagrad,Adadelta,RMSprop\n",
    "from keras.utils import to_categorical\n",
    "\n",
    "# specifically for cnn\n",
    "from keras.layers import Dropout, Flatten\n",
    "from keras.layers import Conv2D, MaxPooling2D, BatchNormalization\n",
    " \n",
    "\n",
    "import tensorflow as tf\n",
    "import random as rn"
   ]
  },
  {
   "cell_type": "markdown",
   "metadata": {
    "colab_type": "text",
    "id": "Uujy_2LNlmD-"
   },
   "source": [
    "## 2 ) Loading the training and testing files"
   ]
  },
  {
   "cell_type": "code",
   "execution_count": 0,
   "metadata": {
    "colab": {},
    "colab_type": "code",
    "id": "sUlWe-AdlmD_"
   },
   "outputs": [],
   "source": [
    "train=pd.read_csv(r'C:\\Users\\HP\\jupyter notebooks\\kaggle\\digit recognizer\\train.csv')\n",
    "test=pd.read_csv(r'C:\\Users\\HP\\jupyter notebooks\\kaggle\\digit recognizer\\test.csv')\n",
    "df=train.copy()\n",
    "df_test=test.copy()"
   ]
  },
  {
   "cell_type": "code",
   "execution_count": 6,
   "metadata": {
    "colab": {
     "base_uri": "https://localhost:8080/",
     "height": 253
    },
    "colab_type": "code",
    "executionInfo": {
     "elapsed": 1017,
     "status": "ok",
     "timestamp": 1534508053132,
     "user": {
      "displayName": "Raj Mehrotra",
      "photoUrl": "https://lh3.googleusercontent.com/a/default-user=s128",
      "userId": "116188724100341692953"
     },
     "user_tz": -330
    },
    "id": "E9v-Q-pVlmEn",
    "outputId": "0bdbc56f-7534-460e-e6a1-5cf86436c921"
   },
   "outputs": [
    {
     "data": {
      "text/html": [
       "<div>\n",
       "<style scoped>\n",
       "    .dataframe tbody tr th:only-of-type {\n",
       "        vertical-align: middle;\n",
       "    }\n",
       "\n",
       "    .dataframe tbody tr th {\n",
       "        vertical-align: top;\n",
       "    }\n",
       "\n",
       "    .dataframe thead th {\n",
       "        text-align: right;\n",
       "    }\n",
       "</style>\n",
       "<table border=\"1\" class=\"dataframe\">\n",
       "  <thead>\n",
       "    <tr style=\"text-align: right;\">\n",
       "      <th></th>\n",
       "      <th>label</th>\n",
       "      <th>pixel0</th>\n",
       "      <th>pixel1</th>\n",
       "      <th>pixel2</th>\n",
       "      <th>pixel3</th>\n",
       "      <th>pixel4</th>\n",
       "      <th>pixel5</th>\n",
       "      <th>pixel6</th>\n",
       "      <th>pixel7</th>\n",
       "      <th>pixel8</th>\n",
       "      <th>...</th>\n",
       "      <th>pixel774</th>\n",
       "      <th>pixel775</th>\n",
       "      <th>pixel776</th>\n",
       "      <th>pixel777</th>\n",
       "      <th>pixel778</th>\n",
       "      <th>pixel779</th>\n",
       "      <th>pixel780</th>\n",
       "      <th>pixel781</th>\n",
       "      <th>pixel782</th>\n",
       "      <th>pixel783</th>\n",
       "    </tr>\n",
       "  </thead>\n",
       "  <tbody>\n",
       "    <tr>\n",
       "      <th>0</th>\n",
       "      <td>1</td>\n",
       "      <td>0</td>\n",
       "      <td>0</td>\n",
       "      <td>0</td>\n",
       "      <td>0</td>\n",
       "      <td>0</td>\n",
       "      <td>0</td>\n",
       "      <td>0</td>\n",
       "      <td>0</td>\n",
       "      <td>0</td>\n",
       "      <td>...</td>\n",
       "      <td>0</td>\n",
       "      <td>0</td>\n",
       "      <td>0</td>\n",
       "      <td>0</td>\n",
       "      <td>0</td>\n",
       "      <td>0</td>\n",
       "      <td>0</td>\n",
       "      <td>0</td>\n",
       "      <td>0</td>\n",
       "      <td>0</td>\n",
       "    </tr>\n",
       "    <tr>\n",
       "      <th>1</th>\n",
       "      <td>0</td>\n",
       "      <td>0</td>\n",
       "      <td>0</td>\n",
       "      <td>0</td>\n",
       "      <td>0</td>\n",
       "      <td>0</td>\n",
       "      <td>0</td>\n",
       "      <td>0</td>\n",
       "      <td>0</td>\n",
       "      <td>0</td>\n",
       "      <td>...</td>\n",
       "      <td>0</td>\n",
       "      <td>0</td>\n",
       "      <td>0</td>\n",
       "      <td>0</td>\n",
       "      <td>0</td>\n",
       "      <td>0</td>\n",
       "      <td>0</td>\n",
       "      <td>0</td>\n",
       "      <td>0</td>\n",
       "      <td>0</td>\n",
       "    </tr>\n",
       "    <tr>\n",
       "      <th>2</th>\n",
       "      <td>1</td>\n",
       "      <td>0</td>\n",
       "      <td>0</td>\n",
       "      <td>0</td>\n",
       "      <td>0</td>\n",
       "      <td>0</td>\n",
       "      <td>0</td>\n",
       "      <td>0</td>\n",
       "      <td>0</td>\n",
       "      <td>0</td>\n",
       "      <td>...</td>\n",
       "      <td>0</td>\n",
       "      <td>0</td>\n",
       "      <td>0</td>\n",
       "      <td>0</td>\n",
       "      <td>0</td>\n",
       "      <td>0</td>\n",
       "      <td>0</td>\n",
       "      <td>0</td>\n",
       "      <td>0</td>\n",
       "      <td>0</td>\n",
       "    </tr>\n",
       "    <tr>\n",
       "      <th>3</th>\n",
       "      <td>4</td>\n",
       "      <td>0</td>\n",
       "      <td>0</td>\n",
       "      <td>0</td>\n",
       "      <td>0</td>\n",
       "      <td>0</td>\n",
       "      <td>0</td>\n",
       "      <td>0</td>\n",
       "      <td>0</td>\n",
       "      <td>0</td>\n",
       "      <td>...</td>\n",
       "      <td>0</td>\n",
       "      <td>0</td>\n",
       "      <td>0</td>\n",
       "      <td>0</td>\n",
       "      <td>0</td>\n",
       "      <td>0</td>\n",
       "      <td>0</td>\n",
       "      <td>0</td>\n",
       "      <td>0</td>\n",
       "      <td>0</td>\n",
       "    </tr>\n",
       "    <tr>\n",
       "      <th>4</th>\n",
       "      <td>0</td>\n",
       "      <td>0</td>\n",
       "      <td>0</td>\n",
       "      <td>0</td>\n",
       "      <td>0</td>\n",
       "      <td>0</td>\n",
       "      <td>0</td>\n",
       "      <td>0</td>\n",
       "      <td>0</td>\n",
       "      <td>0</td>\n",
       "      <td>...</td>\n",
       "      <td>0</td>\n",
       "      <td>0</td>\n",
       "      <td>0</td>\n",
       "      <td>0</td>\n",
       "      <td>0</td>\n",
       "      <td>0</td>\n",
       "      <td>0</td>\n",
       "      <td>0</td>\n",
       "      <td>0</td>\n",
       "      <td>0</td>\n",
       "    </tr>\n",
       "  </tbody>\n",
       "</table>\n",
       "<p>5 rows × 785 columns</p>\n",
       "</div>"
      ],
      "text/plain": [
       "   label  pixel0  pixel1  pixel2  pixel3  pixel4  pixel5  pixel6  pixel7  \\\n",
       "0      1       0       0       0       0       0       0       0       0   \n",
       "1      0       0       0       0       0       0       0       0       0   \n",
       "2      1       0       0       0       0       0       0       0       0   \n",
       "3      4       0       0       0       0       0       0       0       0   \n",
       "4      0       0       0       0       0       0       0       0       0   \n",
       "\n",
       "   pixel8    ...     pixel774  pixel775  pixel776  pixel777  pixel778  \\\n",
       "0       0    ...            0         0         0         0         0   \n",
       "1       0    ...            0         0         0         0         0   \n",
       "2       0    ...            0         0         0         0         0   \n",
       "3       0    ...            0         0         0         0         0   \n",
       "4       0    ...            0         0         0         0         0   \n",
       "\n",
       "   pixel779  pixel780  pixel781  pixel782  pixel783  \n",
       "0         0         0         0         0         0  \n",
       "1         0         0         0         0         0  \n",
       "2         0         0         0         0         0  \n",
       "3         0         0         0         0         0  \n",
       "4         0         0         0         0         0  \n",
       "\n",
       "[5 rows x 785 columns]"
      ]
     },
     "execution_count": 6,
     "metadata": {
      "tags": []
     },
     "output_type": "execute_result"
    }
   ],
   "source": [
    "df.head()"
   ]
  },
  {
   "cell_type": "markdown",
   "metadata": {
    "colab_type": "text",
    "id": "RJegJNGUlmEr"
   },
   "source": [
    "## 3 ) Preparing the Data"
   ]
  },
  {
   "cell_type": "markdown",
   "metadata": {
    "colab_type": "text",
    "id": "qSjMEJtPlmEt"
   },
   "source": [
    "## 3.1 ) Shape of Training/Testing Set"
   ]
  },
  {
   "cell_type": "code",
   "execution_count": 7,
   "metadata": {
    "colab": {
     "base_uri": "https://localhost:8080/",
     "height": 34
    },
    "colab_type": "code",
    "executionInfo": {
     "elapsed": 941,
     "status": "ok",
     "timestamp": 1534508054395,
     "user": {
      "displayName": "Raj Mehrotra",
      "photoUrl": "https://lh3.googleusercontent.com/a/default-user=s128",
      "userId": "116188724100341692953"
     },
     "user_tz": -330
    },
    "id": "HEZXohDLlmEt",
    "outputId": "e3edcbba-b6cc-47d0-aea4-50a88312b7a3"
   },
   "outputs": [
    {
     "data": {
      "text/plain": [
       "(42000, 785)"
      ]
     },
     "execution_count": 7,
     "metadata": {
      "tags": []
     },
     "output_type": "execute_result"
    }
   ],
   "source": [
    "df.shape"
   ]
  },
  {
   "cell_type": "markdown",
   "metadata": {
    "colab_type": "text",
    "id": "jIk1mHjhlmE3"
   },
   "source": [
    "A training set of 42000 images. We shall use some of these images later on for creating our validation set. The images are of 28*28 pixels and one extra column is for the label of the digit (0 1 2... etc...)"
   ]
  },
  {
   "cell_type": "code",
   "execution_count": 8,
   "metadata": {
    "colab": {
     "base_uri": "https://localhost:8080/",
     "height": 34
    },
    "colab_type": "code",
    "executionInfo": {
     "elapsed": 911,
     "status": "ok",
     "timestamp": 1534508055685,
     "user": {
      "displayName": "Raj Mehrotra",
      "photoUrl": "https://lh3.googleusercontent.com/a/default-user=s128",
      "userId": "116188724100341692953"
     },
     "user_tz": -330
    },
    "id": "UlXCJBjQlmE5",
    "outputId": "c044c94a-7acb-4159-8970-99ee9744ba08"
   },
   "outputs": [
    {
     "data": {
      "text/plain": [
       "(28000, 784)"
      ]
     },
     "execution_count": 8,
     "metadata": {
      "tags": []
     },
     "output_type": "execute_result"
    }
   ],
   "source": [
    "df_test.shape "
   ]
  },
  {
   "cell_type": "markdown",
   "metadata": {
    "colab_type": "text",
    "id": "GOpme5wvlmE9"
   },
   "source": [
    "The test set contains 28000 images of 28*28 pixels."
   ]
  },
  {
   "cell_type": "markdown",
   "metadata": {
    "colab_type": "text",
    "id": "hfDC739slmE-"
   },
   "source": [
    "## 3.2 ) Visualizing Number of Images for each Digit "
   ]
  },
  {
   "cell_type": "code",
   "execution_count": 9,
   "metadata": {
    "colab": {
     "base_uri": "https://localhost:8080/",
     "height": 204
    },
    "colab_type": "code",
    "executionInfo": {
     "elapsed": 1340,
     "status": "ok",
     "timestamp": 1534508057472,
     "user": {
      "displayName": "Raj Mehrotra",
      "photoUrl": "https://lh3.googleusercontent.com/a/default-user=s128",
      "userId": "116188724100341692953"
     },
     "user_tz": -330
    },
    "id": "9THsMD59lmE_",
    "outputId": "fe24d3c7-ca3e-453b-ab41-c2161bd49091"
   },
   "outputs": [
    {
     "data": {
      "text/plain": [
       "1    4684\n",
       "7    4401\n",
       "3    4351\n",
       "9    4188\n",
       "2    4177\n",
       "6    4137\n",
       "0    4132\n",
       "4    4072\n",
       "8    4063\n",
       "5    3795\n",
       "Name: label, dtype: int64"
      ]
     },
     "execution_count": 9,
     "metadata": {
      "tags": []
     },
     "output_type": "execute_result"
    }
   ],
   "source": [
    "df['label'].value_counts()"
   ]
  },
  {
   "cell_type": "code",
   "execution_count": 10,
   "metadata": {
    "colab": {
     "base_uri": "https://localhost:8080/",
     "height": 382
    },
    "colab_type": "code",
    "executionInfo": {
     "elapsed": 2653,
     "status": "ok",
     "timestamp": 1534508060314,
     "user": {
      "displayName": "Raj Mehrotra",
      "photoUrl": "https://lh3.googleusercontent.com/a/default-user=s128",
      "userId": "116188724100341692953"
     },
     "user_tz": -330
    },
    "id": "d5oOKd2LlmFF",
    "outputId": "faac2d27-c4e9-4bad-efab-4a50df4638f9"
   },
   "outputs": [
    {
     "data": {
      "text/plain": [
       "<seaborn.axisgrid.FacetGrid at 0x7f5f22a369b0>"
      ]
     },
     "execution_count": 10,
     "metadata": {
      "tags": []
     },
     "output_type": "execute_result"
    },
    {
     "data": {
      "image/png": "[encoded data removed]",
      "text/plain": [
       "<matplotlib.figure.Figure at 0x7f5f229d4d68>"
      ]
     },
     "metadata": {
      "tags": []
     },
     "output_type": "display_data"
    }
   ],
   "source": [
    "sns.factorplot(data=df,kind='count',x='label',size=5,aspect=1.5)"
   ]
  },
  {
   "cell_type": "markdown",
   "metadata": {
    "colab_type": "text",
    "id": "d_90H011lmGP"
   },
   "source": [
    "Now we can randomly see some images from the training set. Lets see the first say 10 images."
   ]
  },
  {
   "cell_type": "code",
   "execution_count": 11,
   "metadata": {
    "colab": {
     "base_uri": "https://localhost:8080/",
     "height": 924
    },
    "colab_type": "code",
    "executionInfo": {
     "elapsed": 3552,
     "status": "ok",
     "timestamp": 1534508065212,
     "user": {
      "displayName": "Raj Mehrotra",
      "photoUrl": "https://lh3.googleusercontent.com/a/default-user=s128",
      "userId": "116188724100341692953"
     },
     "user_tz": -330
    },
    "id": "9k7moSXYlmGQ",
    "outputId": "6738a1c5-a12b-4959-a9ac-c1a33e1b85af"
   },
   "outputs": [
    {
     "data": {
      "image/png": "[encoded data removed]",
      "text/plain": [
       "<matplotlib.figure.Figure at 0x7f5eba6c47f0>"
      ]
     },
     "metadata": {
      "tags": []
     },
     "output_type": "display_data"
    }
   ],
   "source": [
    "fig,ax=plt.subplots(5,2)\n",
    "fig.set_size_inches(15,15)\n",
    "count=0\n",
    "for i in range(5):\n",
    "    for j in range (2):\n",
    "        ax[i,j].imshow(df.drop('label',axis=1).values[count].reshape(28,28),cmap='gray')\n",
    "        count+=1"
   ]
  },
  {
   "cell_type": "markdown",
   "metadata": {
    "colab_type": "text",
    "id": "-nxa3sIklmGU"
   },
   "source": [
    "The countplot shows the number of images for each digit. For eg---> 1 has 4684 images and so on for other digits... ."
   ]
  },
  {
   "cell_type": "markdown",
   "metadata": {
    "colab_type": "text",
    "id": "mdQ0UndDlmGU"
   },
   "source": [
    "## 3.3 ) Converting from Data Frame to Numpy Arrays"
   ]
  },
  {
   "cell_type": "markdown",
   "metadata": {
    "colab_type": "text",
    "id": "2KRRcR8plmGX"
   },
   "source": [
    "Note that to feed our data to a neural network or more specifically a ConvNet model in our case; we need to convert it to numpy arrays holding the respective pixel values. To do this we use the '.values' attribute on the data frame."
   ]
  },
  {
   "cell_type": "code",
   "execution_count": 0,
   "metadata": {
    "colab": {},
    "colab_type": "code",
    "id": "Z5OxBfhClmGY"
   },
   "outputs": [],
   "source": [
    "X=df.drop('label',axis=1).values\n",
    "Y=df['label'].values"
   ]
  },
  {
   "cell_type": "code",
   "execution_count": 13,
   "metadata": {
    "colab": {
     "base_uri": "https://localhost:8080/",
     "height": 136
    },
    "colab_type": "code",
    "executionInfo": {
     "elapsed": 1116,
     "status": "ok",
     "timestamp": 1534508067809,
     "user": {
      "displayName": "Raj Mehrotra",
      "photoUrl": "https://lh3.googleusercontent.com/a/default-user=s128",
      "userId": "116188724100341692953"
     },
     "user_tz": -330
    },
    "id": "flPGZyqQlmGb",
    "outputId": "6a0bb972-07ae-4c32-8a39-d68e4b93b1f9"
   },
   "outputs": [
    {
     "data": {
      "text/plain": [
       "array([[0, 0, 0, ..., 0, 0, 0],\n",
       "       [0, 0, 0, ..., 0, 0, 0],\n",
       "       [0, 0, 0, ..., 0, 0, 0],\n",
       "       ...,\n",
       "       [0, 0, 0, ..., 0, 0, 0],\n",
       "       [0, 0, 0, ..., 0, 0, 0],\n",
       "       [0, 0, 0, ..., 0, 0, 0]])"
      ]
     },
     "execution_count": 13,
     "metadata": {
      "tags": []
     },
     "output_type": "execute_result"
    }
   ],
   "source": [
    "X"
   ]
  },
  {
   "cell_type": "markdown",
   "metadata": {
    "colab_type": "text",
    "id": "mH2Hi70IlmGg"
   },
   "source": [
    "## 3.4 ) One Hot Encoding the Target"
   ]
  },
  {
   "cell_type": "markdown",
   "metadata": {
    "colab_type": "text",
    "id": "hotQ_vFqlmGh"
   },
   "source": [
    "Note that there are two main things to watch out before feeding data into a neural network.\n",
    "\n",
    "The first is that our data needs to be in the form of numpy arrays (ndarray) which we did in previous section.\n",
    "\n",
    "The second that the target variable should be one hot encoded eg 2--> 0010 (assuming 0 based indexing) and so on.. In this way for a 'n' class classification problems our target variable will have n classes and hence after one hot encoding we shall have n labels with each label corressponding to a particular target class.\n",
    "\n",
    "Here we have 10 digits (or target classes) ie from 0--->9 and so we one hot encode the target using 10 classes."
   ]
  },
  {
   "cell_type": "code",
   "execution_count": 0,
   "metadata": {
    "colab": {},
    "colab_type": "code",
    "id": "kRTfcz8jlmGj"
   },
   "outputs": [],
   "source": [
    "Y=to_categorical(Y,10)  "
   ]
  },
  {
   "cell_type": "markdown",
   "metadata": {
    "colab_type": "text",
    "id": "R0tRNYqZlmGl"
   },
   "source": [
    "## 3.5 ) Splitting into Training and Validation Sets.\n"
   ]
  },
  {
   "cell_type": "code",
   "execution_count": 0,
   "metadata": {
    "colab": {},
    "colab_type": "code",
    "id": "FJCdGBPLlmGm"
   },
   "outputs": [],
   "source": [
    "x_train,x_test,y_train,y_test=train_test_split(X,Y,test_size=0.20,random_state=42)"
   ]
  },
  {
   "cell_type": "markdown",
   "metadata": {
    "colab_type": "text",
    "id": "Q7McnmyMlmGp"
   },
   "source": [
    "## 3.6 ) Normalizing the Features"
   ]
  },
  {
   "cell_type": "markdown",
   "metadata": {
    "colab_type": "text",
    "id": "ffx52wJDlmGp"
   },
   "source": [
    "Note that the neural networks are quite sensitive towards the scale of the features. Hence it is always good to perform feature scaling on the data before feeding it into a Neural Network.\n",
    "\n",
    "Below I have scaled the pixel values by dividing by 255 since the max pixel value is 255.\n",
    "\n",
    "Actually it is based on \n",
    "\n",
    "x=(x-min)/(max-min) ;where min=0 and max=255 for our case."
   ]
  },
  {
   "cell_type": "code",
   "execution_count": 0,
   "metadata": {
    "colab": {},
    "colab_type": "code",
    "id": "LYfYA7o2lmGr"
   },
   "outputs": [],
   "source": [
    "x_train=x_train/255  \n",
    "x_test=x_test/255\n",
    "num_test=df_test.values\n",
    "num_test=num_test/255"
   ]
  },
  {
   "cell_type": "markdown",
   "metadata": {
    "colab_type": "text",
    "id": "9MFBnHoelmGu"
   },
   "source": [
    "## 3.7 ) Reshaping the Images"
   ]
  },
  {
   "cell_type": "markdown",
   "metadata": {
    "colab_type": "text",
    "id": "4ugAUhe9lmHQ"
   },
   "source": [
    "Note that to feed our data to a ConvNet model we need to make its shape correct. \n",
    "\n",
    "Since we have 784 pixel values , we resize each images to 28*28 pixels. Also since it is a grayscale image it has only one channel(unlike a RGB image which has 3 channels; one corressponding to each color).\n",
    "\n",
    "Now we reshape our training , validation and test sets. The first dimension of each is the number of observations in the set. What follows is the dimensions of the image in \"channels_last\" order ie (no of obs., width,height,depth)."
   ]
  },
  {
   "cell_type": "code",
   "execution_count": 0,
   "metadata": {
    "colab": {},
    "colab_type": "code",
    "id": "kKGLGyfblmHR"
   },
   "outputs": [],
   "source": [
    "x_train=x_train.reshape(x_train.shape[0],28,28,1)\n",
    "x_test=x_test.reshape(x_test.shape[0],28,28,1)\n",
    "num_test=num_test.reshape(num_test.shape[0],28,28,1)"
   ]
  },
  {
   "cell_type": "code",
   "execution_count": 18,
   "metadata": {
    "colab": {
     "base_uri": "https://localhost:8080/",
     "height": 34
    },
    "colab_type": "code",
    "executionInfo": {
     "elapsed": 1075,
     "status": "ok",
     "timestamp": 1534508076315,
     "user": {
      "displayName": "Raj Mehrotra",
      "photoUrl": "https://lh3.googleusercontent.com/a/default-user=s128",
      "userId": "116188724100341692953"
     },
     "user_tz": -330
    },
    "id": "6KelQHqAlmHV",
    "outputId": "6b624b5b-77d3-4f29-ab75-1919fe529f90"
   },
   "outputs": [
    {
     "data": {
      "text/plain": [
       "(33600, 28, 28, 1)"
      ]
     },
     "execution_count": 18,
     "metadata": {
      "tags": []
     },
     "output_type": "execute_result"
    }
   ],
   "source": [
    "x_train.shape"
   ]
  },
  {
   "cell_type": "markdown",
   "metadata": {
    "colab_type": "text",
    "id": "ouOhrwoalmHa"
   },
   "source": [
    "## 3.8 ) Setting the Random Seeds"
   ]
  },
  {
   "cell_type": "markdown",
   "metadata": {
    "colab_type": "text",
    "id": "a-5botj2lmHa"
   },
   "source": [
    "Setting the seeds for reproducibility."
   ]
  },
  {
   "cell_type": "code",
   "execution_count": 0,
   "metadata": {
    "colab": {},
    "colab_type": "code",
    "id": "a3qX4tjAlmHc"
   },
   "outputs": [],
   "source": [
    "np.random.seed(42)"
   ]
  },
  {
   "cell_type": "code",
   "execution_count": 0,
   "metadata": {
    "colab": {},
    "colab_type": "code",
    "id": "R4O941CylmHe"
   },
   "outputs": [],
   "source": [
    "rn.seed(42)"
   ]
  },
  {
   "cell_type": "code",
   "execution_count": 0,
   "metadata": {
    "colab": {},
    "colab_type": "code",
    "id": "2P5p34jFlmHk"
   },
   "outputs": [],
   "source": [
    "tf.set_random_seed(42)"
   ]
  },
  {
   "cell_type": "markdown",
   "metadata": {
    "colab_type": "text",
    "id": "me0vRNZ3lmHn"
   },
   "source": [
    "## 4 ) Modelling "
   ]
  },
  {
   "cell_type": "markdown",
   "metadata": {
    "colab_type": "text",
    "id": "t9VOWe3clmHv"
   },
   "source": [
    "## 4.1 ) Building a Convolutional Neural Network using Keras"
   ]
  },
  {
   "cell_type": "code",
   "execution_count": 0,
   "metadata": {
    "colab": {},
    "colab_type": "code",
    "id": "Dnc_Xv4klmHw"
   },
   "outputs": [],
   "source": [
    "# modelling starts using a CNN.\n",
    "\n",
    "model=Sequential()\n",
    "model.add(Conv2D(filters=32,kernel_size=(3,3),strides=1,padding='same',data_format=\"channels_last\",activation='relu',\n",
    "                 input_shape=(28,28,1)))\n",
    "model.add(BatchNormalization())\n",
    "model.add(Conv2D(filters=32,kernel_size=(3,3),strides=1,padding='same',data_format=\"channels_last\",activation='relu'))\n",
    "model.add(BatchNormalization())\n",
    "model.add(MaxPooling2D(pool_size=(2, 2), strides=2, padding='valid', data_format=\"channels_last\"))\n",
    "model.add(Dropout(0.20))\n",
    "\n",
    "model.add(Conv2D(filters=64,kernel_size=(3,3),strides=1,padding='same',data_format=\"channels_last\",activation='relu'))\n",
    "model.add(BatchNormalization())\n",
    "model.add(Conv2D(filters=64,kernel_size=(3,3),strides=1,padding='same',data_format=\"channels_last\",activation='relu'))\n",
    "model.add(BatchNormalization()) \n",
    "model.add(MaxPooling2D(pool_size=(2, 2), strides=2, padding='valid', data_format=\"channels_last\"))\n",
    "model.add(Dropout(0.20))\n",
    "\n",
    "model.add(Flatten())\n",
    "model.add(Dense(128,activation='relu'))\n",
    "model.add(BatchNormalization())\n",
    "model.add(Dropout(0.50))\n",
    "model.add(Dense(10, activation='softmax'))\n"
   ]
  },
  {
   "cell_type": "markdown",
   "metadata": {
    "colab_type": "text",
    "id": "ZAIQ1Dl0lmHz"
   },
   "source": [
    "#### BREAKING IT DOWN--\n",
    "\n",
    "1.) First we create a Keras Sequential model which is nothing but a stack of layers.\n",
    "\n",
    "2.) Next we have to add the convolutional and the pooling layers to our model. The number of convolutional layers as well as the number and position of a pooling layer is a hyperparameter which we need to decide. Also we have other hyperparameters such as the 'activation function','stride','padding','the number as well as the size of the filter' and etc... .\n",
    "\n",
    "  Note that in a ConvNet the convolution layer generally has the padding of zeros so that the spatial dimesnions of input volume and output volume are same. Hence we have used the 'padding='same'' arguement. Whereas in a pooling layer the padding is not applied in general.\n",
    "  \n",
    "  Also note that we have other types of pooling operations also but MaxPooling layer is known to perform better in most cases.\n",
    "\n",
    "3.) To further improve the model performance we can use the batch normalization. In our model I have used the batch normalization after each convolutonal layer but that depends on us.\n",
    "\n",
    "4.) In order to further prevent overfitting we can use the 'Dropout' technique. The dropout randomly drops nodes from the network and thus reduces the dependency on any one neuron. Because of this each neuron learns better and the whole network's performance is expected to get better. To use Dropout we need to set the 'DroputRate' which  is the fraction of the neurons to drop at random from each layer in the network. Note that Dropout is in general applied after the MaxPooling operation.\n",
    "\n",
    "5.) After this what follows is fully connected layers similar to what we would expect in the artificial neural network. Since it expects 1D input we add a Flatten layer to precede it.\n",
    "\n",
    "6.) Note that we can add as many fully connected layers as we want and can use Batch Normalization and Dropout here too.\n",
    "    The number of the units and the activation function('relu' used here) are the hyperparameters as usual.\n",
    "\n",
    "7.) Lastly what follows is the output layer. The output units in the output layer equals the number of categories in which we want to classify the target.The activation funtion used is 'softmax' since we have a multi-classification problem."
   ]
  },
  {
   "cell_type": "markdown",
   "metadata": {
    "colab_type": "text",
    "id": "Sf_u1HKLlmHz"
   },
   "source": [
    "## 4.2 ) Data Augmentation Using the Image Generator from Keras "
   ]
  },
  {
   "cell_type": "markdown",
   "metadata": {
    "colab_type": "text",
    "id": "qOlzZ3lRlmH0"
   },
   "source": [
    "Data augmentation is a really powerful technique. It helps in increasing the size of the training set by just making modifications to the images. In this way the size of the training set is increased and hence further reduces chances of overfitting.\n",
    "\n",
    "In order to avoid overfitting problem, we need to expand artificially our handwritten digit dataset. We can make your existing dataset even larger. The idea is to alter the training data with small transformations to reproduce the variations occuring when someone is writing a digit.\n",
    "\n",
    "For example, the number is not centered The scale is not the same (some who write with big/small numbers) The image is rotated...\n",
    "\n",
    "Approaches that alter the training data in ways that change the array representation while keeping the label the same are known as data augmentation techniques. Some popular augmentations people use are grayscales, horizontal flips, vertical flips, random crops, color jitters, translations, rotations, and much more.\n",
    "\n",
    "By applying just a couple of these transformations to our training data, we can easily double or triple the number of training examples and create a very robust model.\n",
    "\n",
    "Below I have used the ImageGenerator class from Keras I order to augment the data."
   ]
  },
  {
   "cell_type": "code",
   "execution_count": 0,
   "metadata": {
    "colab": {},
    "colab_type": "code",
    "id": "nziSzDr3lmH1"
   },
   "outputs": [],
   "source": [
    "batch_size=64\n",
    "epochs=20"
   ]
  },
  {
   "cell_type": "code",
   "execution_count": 0,
   "metadata": {
    "colab": {},
    "colab_type": "code",
    "id": "Z1bPSaDjlmIU"
   },
   "outputs": [],
   "source": [
    "datagen = ImageDataGenerator(\n",
    "        featurewise_center=False,  # set input mean to 0 over the dataset\n",
    "        samplewise_center=False,  # set each sample mean to 0\n",
    "        featurewise_std_normalization=False,  # divide inputs by std of the dataset\n",
    "        samplewise_std_normalization=False,  # divide each input by its std\n",
    "        zca_whitening=False,  # apply ZCA whitening\n",
    "        rotation_range=10,  # randomly rotate images in the range (degrees, 0 to 180)\n",
    "        zoom_range = 0.1, # Randomly zoom image \n",
    "        width_shift_range=0.1,  # randomly shift images horizontally (fraction of total width)\n",
    "        height_shift_range=0.1,  # randomly shift images vertically (fraction of total height)\n",
    "        horizontal_flip=False,  # randomly flip images\n",
    "        vertical_flip=False)  # randomly flip images\n",
    "\n",
    "\n",
    "datagen.fit(x_train)"
   ]
  },
  {
   "cell_type": "markdown",
   "metadata": {
    "colab_type": "text",
    "id": "58lLdeF2lmIW"
   },
   "source": [
    "## 4.3 ) Compiling the Keras Model"
   ]
  },
  {
   "cell_type": "code",
   "execution_count": 0,
   "metadata": {
    "colab": {},
    "colab_type": "code",
    "id": "sa0uHMYqlmIY"
   },
   "outputs": [],
   "source": [
    "model.compile(optimizer=RMSprop(lr=0.001),loss='categorical_crossentropy',metrics=['accuracy'])  "
   ]
  },
  {
   "cell_type": "markdown",
   "metadata": {
    "colab_type": "text",
    "id": "KyCRhm0BlmIj"
   },
   "source": [
    "#### BREAKING IT DOWN--\n",
    "\n",
    "1.) Now we need to compile the model. We have to specify the optimizer used by the model We have many choices like Adam,        RMSprop etc.. Refer to Keras doc for a comprehensive list of the optimizers available.\n",
    "\n",
    "2.) Next we need to specify the loss function for the neural network which we seek to minimize.\n",
    "\n",
    "   I have used the 'categorical_crossentropy' loss function since this is a mulit-class classification problem. For a binary    classification problems we may use the 'binary_crossentropy'.\n",
    "\n",
    "3.) Next we need to specify the metric to evaluate our models performance. Here I have used accuracy."
   ]
  },
  {
   "cell_type": "markdown",
   "metadata": {
    "colab_type": "text",
    "id": "a3ERd9UslmIk"
   },
   "source": [
    "## 4.4 ) Summary of the Model"
   ]
  },
  {
   "cell_type": "code",
   "execution_count": 26,
   "metadata": {
    "colab": {
     "base_uri": "https://localhost:8080/",
     "height": 714
    },
    "colab_type": "code",
    "executionInfo": {
     "elapsed": 1063,
     "status": "ok",
     "timestamp": 1534508089519,
     "user": {
      "displayName": "Raj Mehrotra",
      "photoUrl": "https://lh3.googleusercontent.com/a/default-user=s128",
      "userId": "116188724100341692953"
     },
     "user_tz": -330
    },
    "id": "gFYjhtoMlmIl",
    "outputId": "aa3af09f-cdb8-4c43-b32f-caa7c2aa8830"
   },
   "outputs": [
    {
     "name": "stdout",
     "output_type": "stream",
     "text": [
      "_________________________________________________________________\n",
      "Layer (type)                 Output Shape              Param #   \n",
      "=================================================================\n",
      "conv2d_1 (Conv2D)            (None, 28, 28, 32)        320       \n",
      "_________________________________________________________________\n",
      "batch_normalization_1 (Batch (None, 28, 28, 32)        128       \n",
      "_________________________________________________________________\n",
      "conv2d_2 (Conv2D)            (None, 28, 28, 32)        9248      \n",
      "_________________________________________________________________\n",
      "batch_normalization_2 (Batch (None, 28, 28, 32)        128       \n",
      "_________________________________________________________________\n",
      "max_pooling2d_1 (MaxPooling2 (None, 14, 14, 32)        0         \n",
      "_________________________________________________________________\n",
      "dropout_1 (Dropout)          (None, 14, 14, 32)        0         \n",
      "_________________________________________________________________\n",
      "conv2d_3 (Conv2D)            (None, 14, 14, 64)        18496     \n",
      "_________________________________________________________________\n",
      "batch_normalization_3 (Batch (None, 14, 14, 64)        256       \n",
      "_________________________________________________________________\n",
      "conv2d_4 (Conv2D)            (None, 14, 14, 64)        36928     \n",
      "_________________________________________________________________\n",
      "batch_normalization_4 (Batch (None, 14, 14, 64)        256       \n",
      "_________________________________________________________________\n",
      "max_pooling2d_2 (MaxPooling2 (None, 7, 7, 64)          0         \n",
      "_________________________________________________________________\n",
      "dropout_2 (Dropout)          (None, 7, 7, 64)          0         \n",
      "_________________________________________________________________\n",
      "flatten_1 (Flatten)          (None, 3136)              0         \n",
      "_________________________________________________________________\n",
      "dense_1 (Dense)              (None, 128)               401536    \n",
      "_________________________________________________________________\n",
      "batch_normalization_5 (Batch (None, 128)               512       \n",
      "_________________________________________________________________\n",
      "dropout_3 (Dropout)          (None, 128)               0         \n",
      "_________________________________________________________________\n",
      "dense_2 (Dense)              (None, 10)                1290      \n",
      "=================================================================\n",
      "Total params: 469,098\n",
      "Trainable params: 468,458\n",
      "Non-trainable params: 640\n",
      "_________________________________________________________________\n"
     ]
    }
   ],
   "source": [
    "model.summary()"
   ]
  },
  {
   "cell_type": "markdown",
   "metadata": {
    "colab_type": "text",
    "id": "3EPXG010lmIo"
   },
   "source": [
    "Gives a detailed description of the model and various parameters."
   ]
  },
  {
   "cell_type": "markdown",
   "metadata": {
    "colab_type": "text",
    "id": "TcoMNaBWlmIp"
   },
   "source": [
    "## 4.5 ) Fitting the model on the training data and testing on the validation set"
   ]
  },
  {
   "cell_type": "markdown",
   "metadata": {
    "colab_type": "text",
    "id": "w-3soO0jlmIq"
   },
   "source": [
    "Finally we need to fit our model on the data or rather the 'augmented data'. We also need to specify the 'batch_size' ,'the number of epochs','the validation set' and some other parameters."
   ]
  },
  {
   "cell_type": "code",
   "execution_count": 27,
   "metadata": {
    "colab": {
     "base_uri": "https://localhost:8080/",
     "height": 697
    },
    "colab_type": "code",
    "executionInfo": {
     "elapsed": 431785,
     "status": "ok",
     "timestamp": 1534508521583,
     "user": {
      "displayName": "Raj Mehrotra",
      "photoUrl": "https://lh3.googleusercontent.com/a/default-user=s128",
      "userId": "116188724100341692953"
     },
     "user_tz": -330
    },
    "id": "hTsapvzKlmIq",
    "outputId": "909cb81b-5315-4680-e652-018753bdd063"
   },
   "outputs": [
    {
     "name": "stdout",
     "output_type": "stream",
     "text": [
      "Epoch 1/20\n",
      "525/525 [==============================] - 23s 44ms/step - loss: 0.3283 - acc: 0.8976 - val_loss: 0.1103 - val_acc: 0.9686\n",
      "Epoch 2/20\n",
      "525/525 [==============================] - 21s 40ms/step - loss: 0.1159 - acc: 0.9648 - val_loss: 0.0454 - val_acc: 0.9851\n",
      "Epoch 3/20\n",
      "525/525 [==============================] - 21s 40ms/step - loss: 0.0867 - acc: 0.9741 - val_loss: 0.0383 - val_acc: 0.9876\n",
      "Epoch 4/20\n",
      "525/525 [==============================] - 21s 40ms/step - loss: 0.0787 - acc: 0.9770 - val_loss: 0.0338 - val_acc: 0.9890\n",
      "Epoch 5/20\n",
      "525/525 [==============================] - 21s 40ms/step - loss: 0.0683 - acc: 0.9799 - val_loss: 0.0306 - val_acc: 0.9895\n",
      "Epoch 6/20\n",
      "525/525 [==============================] - 21s 40ms/step - loss: 0.0590 - acc: 0.9816 - val_loss: 0.0373 - val_acc: 0.9887\n",
      "Epoch 7/20\n",
      "525/525 [==============================] - 21s 40ms/step - loss: 0.0545 - acc: 0.9828 - val_loss: 0.0240 - val_acc: 0.9933\n",
      "Epoch 8/20\n",
      "525/525 [==============================] - 21s 40ms/step - loss: 0.0497 - acc: 0.9851 - val_loss: 0.0269 - val_acc: 0.9917\n",
      "Epoch 9/20\n",
      "525/525 [==============================] - 21s 40ms/step - loss: 0.0490 - acc: 0.9857 - val_loss: 0.0268 - val_acc: 0.9917\n",
      "Epoch 10/20\n",
      "525/525 [==============================] - 21s 39ms/step - loss: 0.0476 - acc: 0.9859 - val_loss: 0.0231 - val_acc: 0.9923\n",
      "Epoch 11/20\n",
      "525/525 [==============================] - 21s 40ms/step - loss: 0.0484 - acc: 0.9854 - val_loss: 0.0218 - val_acc: 0.9939\n",
      "Epoch 12/20\n",
      "525/525 [==============================] - 21s 40ms/step - loss: 0.0452 - acc: 0.9869 - val_loss: 0.0229 - val_acc: 0.9937\n",
      "Epoch 13/20\n",
      "525/525 [==============================] - 21s 40ms/step - loss: 0.0432 - acc: 0.9872 - val_loss: 0.0259 - val_acc: 0.9918\n",
      "Epoch 14/20\n",
      "525/525 [==============================] - 21s 40ms/step - loss: 0.0447 - acc: 0.9876 - val_loss: 0.0184 - val_acc: 0.9940\n",
      "Epoch 15/20\n",
      "525/525 [==============================] - 21s 41ms/step - loss: 0.0425 - acc: 0.9876 - val_loss: 0.0167 - val_acc: 0.9948\n",
      "Epoch 16/20\n",
      "525/525 [==============================] - 22s 43ms/step - loss: 0.0393 - acc: 0.9885 - val_loss: 0.0201 - val_acc: 0.9944\n",
      "Epoch 17/20\n",
      "525/525 [==============================] - 22s 42ms/step - loss: 0.0371 - acc: 0.9895 - val_loss: 0.0251 - val_acc: 0.9926\n",
      "Epoch 18/20\n",
      "525/525 [==============================] - 23s 44ms/step - loss: 0.0398 - acc: 0.9883 - val_loss: 0.0182 - val_acc: 0.9946\n",
      "Epoch 19/20\n",
      "525/525 [==============================] - 22s 42ms/step - loss: 0.0398 - acc: 0.9882 - val_loss: 0.0193 - val_acc: 0.9938\n",
      "Epoch 20/20\n",
      "525/525 [==============================] - 23s 43ms/step - loss: 0.0348 - acc: 0.9891 - val_loss: 0.0211 - val_acc: 0.9932\n"
     ]
    }
   ],
   "source": [
    "History = model.fit_generator(datagen.flow(x_train,y_train, batch_size=batch_size),\n",
    "                              epochs = epochs, validation_data = (x_test,y_test),\n",
    "                              verbose = 1, steps_per_epoch=x_train.shape[0] // batch_size)"
   ]
  },
  {
   "cell_type": "code",
   "execution_count": 0,
   "metadata": {
    "colab": {},
    "colab_type": "code",
    "id": "z9ql_NrOlmIu"
   },
   "outputs": [],
   "source": []
  },
  {
   "cell_type": "markdown",
   "metadata": {
    "colab_type": "text",
    "id": "IevevDVylmIx"
   },
   "source": [
    "## 5 ) Making Predictions on the Validation Set"
   ]
  },
  {
   "cell_type": "code",
   "execution_count": 28,
   "metadata": {
    "colab": {
     "base_uri": "https://localhost:8080/",
     "height": 34
    },
    "colab_type": "code",
    "executionInfo": {
     "elapsed": 3214,
     "status": "ok",
     "timestamp": 1534508526117,
     "user": {
      "displayName": "Raj Mehrotra",
      "photoUrl": "https://lh3.googleusercontent.com/a/default-user=s128",
      "userId": "116188724100341692953"
     },
     "user_tz": -330
    },
    "id": "yDzAwZ40lmIy",
    "outputId": "a6a1c08e-e083-47b8-d7fe-a9ba18554fa7"
   },
   "outputs": [
    {
     "data": {
      "text/plain": [
       "8400"
      ]
     },
     "execution_count": 28,
     "metadata": {
      "tags": []
     },
     "output_type": "execute_result"
    }
   ],
   "source": [
    "pred=model.predict(x_test)\n",
    "pred_digits=np.argmax(pred,axis=1)\n",
    "image_id=[]\n",
    "for i in range (len(pred_digits)):\n",
    "    image_id.append(i+1)\n",
    "len(image_id)"
   ]
  },
  {
   "cell_type": "code",
   "execution_count": 29,
   "metadata": {
    "colab": {
     "base_uri": "https://localhost:8080/",
     "height": 34
    },
    "colab_type": "code",
    "executionInfo": {
     "elapsed": 1185,
     "status": "ok",
     "timestamp": 1534508527403,
     "user": {
      "displayName": "Raj Mehrotra",
      "photoUrl": "https://lh3.googleusercontent.com/a/default-user=s128",
      "userId": "116188724100341692953"
     },
     "user_tz": -330
    },
    "id": "ig_lkd87lmI2",
    "outputId": "70d43ecf-2fdd-454a-a3f0-ae3f20764670"
   },
   "outputs": [
    {
     "data": {
      "text/plain": [
       "array([8, 1, 9, ..., 3, 0, 9])"
      ]
     },
     "execution_count": 29,
     "metadata": {
      "tags": []
     },
     "output_type": "execute_result"
    }
   ],
   "source": [
    "pred_digits"
   ]
  },
  {
   "cell_type": "markdown",
   "metadata": {
    "colab_type": "text",
    "id": "ep36mytrlmJA"
   },
   "source": [
    "## 6 ) Evaluating the Model Performance"
   ]
  },
  {
   "cell_type": "markdown",
   "metadata": {
    "colab_type": "text",
    "id": "6OHxc_b-lmJA"
   },
   "source": [
    "Let us plot the 'accuracy vs no of epcohs' and 'loss vs no of epochs' curves for a better insight."
   ]
  },
  {
   "cell_type": "code",
   "execution_count": 30,
   "metadata": {
    "colab": {
     "base_uri": "https://localhost:8080/",
     "height": 51
    },
    "colab_type": "code",
    "executionInfo": {
     "elapsed": 2984,
     "status": "ok",
     "timestamp": 1534508530624,
     "user": {
      "displayName": "Raj Mehrotra",
      "photoUrl": "https://lh3.googleusercontent.com/a/default-user=s128",
      "userId": "116188724100341692953"
     },
     "user_tz": -330
    },
    "id": "78uuux8UlmJB",
    "outputId": "532a61c3-3d0f-43a9-90c0-39256d9e9200"
   },
   "outputs": [
    {
     "name": "stdout",
     "output_type": "stream",
     "text": [
      "8400/8400 [==============================] - 2s 253us/step\n"
     ]
    },
    {
     "data": {
      "text/plain": [
       "[0.02114551902427809, 0.9932142857142857]"
      ]
     },
     "execution_count": 30,
     "metadata": {
      "tags": []
     },
     "output_type": "execute_result"
    }
   ],
   "source": [
    "model.evaluate(x_test, y_test)"
   ]
  },
  {
   "cell_type": "code",
   "execution_count": 31,
   "metadata": {
    "colab": {
     "base_uri": "https://localhost:8080/",
     "height": 398
    },
    "colab_type": "code",
    "executionInfo": {
     "elapsed": 1474,
     "status": "ok",
     "timestamp": 1534508532429,
     "user": {
      "displayName": "Raj Mehrotra",
      "photoUrl": "https://lh3.googleusercontent.com/a/default-user=s128",
      "userId": "116188724100341692953"
     },
     "user_tz": -330
    },
    "id": "stk6AG55lmJE",
    "outputId": "18e0845a-4895-4da5-9af0-894ec913a9f4"
   },
   "outputs": [
    {
     "data": {
      "image/png": "[encoded data removed]",
      "text/plain": [
       "<matplotlib.figure.Figure at 0x7f5e903074a8>"
      ]
     },
     "metadata": {
      "tags": []
     },
     "output_type": "display_data"
    }
   ],
   "source": [
    "plt.plot(History.history['loss'])\n",
    "plt.plot(History.history['val_loss'])\n",
    "plt.title('Model Loss')\n",
    "plt.ylabel('Loss')\n",
    "plt.xlabel('Epochs')\n",
    "plt.legend(['train', 'test'])\n",
    "plt.show()"
   ]
  },
  {
   "cell_type": "code",
   "execution_count": 32,
   "metadata": {
    "colab": {
     "base_uri": "https://localhost:8080/",
     "height": 398
    },
    "colab_type": "code",
    "executionInfo": {
     "elapsed": 1823,
     "status": "ok",
     "timestamp": 1534508534398,
     "user": {
      "displayName": "Raj Mehrotra",
      "photoUrl": "https://lh3.googleusercontent.com/a/default-user=s128",
      "userId": "116188724100341692953"
     },
     "user_tz": -330
    },
    "id": "n0E3IKL_lmJJ",
    "outputId": "a9e90f0b-eba9-445d-dc11-7f86651518f1"
   },
   "outputs": [
    {
     "data": {
      "image/png": "[encoded data removed]",
      "text/plain": [
       "<matplotlib.figure.Figure at 0x7f5e8e126be0>"
      ]
     },
     "metadata": {
      "tags": []
     },
     "output_type": "display_data"
    }
   ],
   "source": [
    "plt.plot(History.history['acc'])\n",
    "plt.plot(History.history['val_acc'])\n",
    "plt.title('Model Accuracy')\n",
    "plt.ylabel('Accuracy')\n",
    "plt.xlabel('Epochs')\n",
    "plt.legend(['train', 'test'])\n",
    "plt.show()"
   ]
  },
  {
   "cell_type": "markdown",
   "metadata": {
    "colab_type": "text",
    "id": "4emmfeoKlmJN"
   },
   "source": [
    "Below I have displayed some correctly classified and misclassified images which just helps it visualize better."
   ]
  },
  {
   "cell_type": "code",
   "execution_count": 0,
   "metadata": {
    "colab": {},
    "colab_type": "code",
    "id": "6KFJbnlmlmJO"
   },
   "outputs": [],
   "source": [
    "i=0\n",
    "prop_class=[]\n",
    "mis_class=[]\n",
    "\n",
    "for i in range(len(y_test)):\n",
    "    if(np.argmax(y_test[i])==pred_digits[i]):\n",
    "        prop_class.append(i)\n",
    "    if(len(prop_class)==6):\n",
    "        break\n",
    "\n",
    "i=0\n",
    "for i in range(len(y_test)):\n",
    "    if(not np.argmax(y_test[i])==pred_digits[i]):\n",
    "        mis_class.append(i)\n",
    "    if(len(mis_class)==6):\n",
    "        break\n"
   ]
  },
  {
   "cell_type": "markdown",
   "metadata": {
    "colab_type": "text",
    "id": "wf8qR0kPlmJT"
   },
   "source": [
    "#### CORRECTLY CLASSIFIED IMAGES."
   ]
  },
  {
   "cell_type": "code",
   "execution_count": 34,
   "metadata": {
    "colab": {
     "base_uri": "https://localhost:8080/",
     "height": 725
    },
    "colab_type": "code",
    "executionInfo": {
     "elapsed": 2722,
     "status": "ok",
     "timestamp": 1534508538709,
     "user": {
      "displayName": "Raj Mehrotra",
      "photoUrl": "https://lh3.googleusercontent.com/a/default-user=s128",
      "userId": "116188724100341692953"
     },
     "user_tz": -330
    },
    "id": "vtPIc_vblmJU",
    "outputId": "82143cd6-68bf-488a-ce74-ae03d38b928e"
   },
   "outputs": [
    {
     "data": {
      "image/png": "[encoded data removed]",
      "text/plain": [
       "<matplotlib.figure.Figure at 0x7f5e8e09c3c8>"
      ]
     },
     "metadata": {
      "tags": []
     },
     "output_type": "display_data"
    }
   ],
   "source": [
    "count=0\n",
    "fig,ax=plt.subplots(3,2)\n",
    "fig.set_size_inches(10,10)\n",
    "for i in range (3):\n",
    "    for j in range (2):\n",
    "        ax[i,j].imshow(x_test[prop_class[count]].reshape(28,28),cmap='gray')\n",
    "        ax[i,j].set_title(\"Predicted Label : \"+str(pred_digits[prop_class[count]])+\"\\n\"+\"Actual Label : \"+str(np.argmax(y_test[prop_class[count]])))\n",
    "        plt.tight_layout()\n",
    "        count+=1\n",
    "        "
   ]
  },
  {
   "cell_type": "markdown",
   "metadata": {
    "colab_type": "text",
    "id": "azjQsIj2lmJW"
   },
   "source": [
    "#### MISCLASSIFIED IMAGES."
   ]
  },
  {
   "cell_type": "code",
   "execution_count": 35,
   "metadata": {
    "colab": {
     "base_uri": "https://localhost:8080/",
     "height": 725
    },
    "colab_type": "code",
    "executionInfo": {
     "elapsed": 2890,
     "status": "ok",
     "timestamp": 1534508541815,
     "user": {
      "displayName": "Raj Mehrotra",
      "photoUrl": "https://lh3.googleusercontent.com/a/default-user=s128",
      "userId": "116188724100341692953"
     },
     "user_tz": -330
    },
    "id": "2Ixl2twHlmJX",
    "outputId": "7e1874bd-aa7b-46a7-8cfd-66af73d9cdc7"
   },
   "outputs": [
    {
     "data": {
      "image/png": "[encoded data removed]",
      "text/plain": [
       "<matplotlib.figure.Figure at 0x7f5e8e09c828>"
      ]
     },
     "metadata": {
      "tags": []
     },
     "output_type": "display_data"
    }
   ],
   "source": [
    "count=0\n",
    "fig,ax=plt.subplots(3,2)\n",
    "fig.set_size_inches(10,10)\n",
    "for i in range (3):\n",
    "    for j in range (2):\n",
    "        ax[i,j].imshow(x_test[mis_class[count]].reshape(28,28),cmap='gray')\n",
    "        ax[i,j].set_title(\"Predicted Label : \"+str(pred_digits[mis_class[count]])+\"\\n\"+\"Actual Label : \"+str(np.argmax(y_test[mis_class[count]])))\n",
    "        plt.tight_layout()\n",
    "        count+=1\n",
    "        "
   ]
  },
  {
   "cell_type": "markdown",
   "metadata": {
    "colab_type": "text",
    "id": "183H69NOlmJh"
   },
   "source": [
    "## 7 ) Making Submission to Kaggle¶"
   ]
  },
  {
   "cell_type": "code",
   "execution_count": 0,
   "metadata": {
    "colab": {},
    "colab_type": "code",
    "id": "yukFjZvVlmJi"
   },
   "outputs": [],
   "source": [
    "pred_digits_test=np.argmax(model.predict(num_test),axis=1)\n",
    "image_id_test=[]\n",
    "for i in range (len(pred_digits_test)):\n",
    "    image_id_test.append(i+1)\n",
    "d={'ImageId':image_id_test,'Label':pred_digits_test}\n",
    "answer=pd.DataFrame(d)\n",
    "answer.to_csv('answer.csv',index=False)\n"
   ]
  },
  {
   "cell_type": "markdown",
   "metadata": {
    "colab_type": "text",
    "id": "KKT6LaE8lmKA"
   },
   "source": [
    "# THE END."
   ]
  },
  {
   "cell_type": "markdown",
   "metadata": {
    "colab_type": "text",
    "id": "e89iRZVclmKC"
   },
   "source": [
    "## [Please star/upvote if u like it.]"
   ]
  },
  {
   "cell_type": "code",
   "execution_count": 0,
   "metadata": {
    "colab": {},
    "colab_type": "code",
    "id": "6gjb7nFFlmKC"
   },
   "outputs": [],
   "source": []
  }
 ],
 "metadata": {
  "accelerator": "GPU",
  "colab": {
   "collapsed_sections": [
    "RJegJNGUlmEr",
    "me0vRNZ3lmHn",
    "ZAIQ1Dl0lmHz",
    "KyCRhm0BlmIj"
   ],
   "name": "digit-recognizer-cnn.ipynb",
   "provenance": [],
   "version": "0.3.2"
  },
  "kernelspec": {
   "display_name": "Python 3",
   "language": "python",
   "name": "python3"
  },
  "language_info": {
   "codemirror_mode": {
    "name": "ipython",
    "version": 3
   },
   "file_extension": ".py",
   "mimetype": "text/x-python",
   "name": "python",
   "nbconvert_exporter": "python",
   "pygments_lexer": "ipython3",
   "version": "3.6.6"
  }
 },
 "nbformat": 4,
 "nbformat_minor": 1
}
